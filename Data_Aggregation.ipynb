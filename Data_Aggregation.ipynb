{
  "nbformat": 4,
  "nbformat_minor": 0,
  "metadata": {
    "colab": {
      "provenance": []
    },
    "kernelspec": {
      "name": "python3",
      "display_name": "Python 3"
    },
    "language_info": {
      "name": "python"
    }
  },
  "cells": [
    {
      "cell_type": "code",
      "execution_count": 2,
      "metadata": {
        "colab": {
          "base_uri": "https://localhost:8080/"
        },
        "id": "sr9unAZQ0xn_",
        "outputId": "ab2dae47-a74d-4242-891e-f1fbc646414c"
      },
      "outputs": [
        {
          "output_type": "stream",
          "name": "stdout",
          "text": [
            "Looking in indexes: https://pypi.org/simple, https://us-python.pkg.dev/colab-wheels/public/simple/\n",
            "\u001b[31mERROR: Operation cancelled by user\u001b[0m\u001b[31m\n",
            "\u001b[0mLooking in indexes: https://pypi.org/simple, https://us-python.pkg.dev/colab-wheels/public/simple/\n",
            "Collecting pandasql\n",
            "  Downloading pandasql-0.7.3.tar.gz (26 kB)\n",
            "  Preparing metadata (setup.py) ... \u001b[?25l\u001b[?25hdone\n",
            "Requirement already satisfied: numpy in /usr/local/lib/python3.9/dist-packages (from pandasql) (1.22.4)\n",
            "Requirement already satisfied: pandas in /usr/local/lib/python3.9/dist-packages (from pandasql) (1.4.4)\n",
            "Requirement already satisfied: sqlalchemy in /usr/local/lib/python3.9/dist-packages (from pandasql) (1.4.47)\n",
            "Requirement already satisfied: python-dateutil>=2.8.1 in /usr/local/lib/python3.9/dist-packages (from pandas->pandasql) (2.8.2)\n",
            "Requirement already satisfied: pytz>=2020.1 in /usr/local/lib/python3.9/dist-packages (from pandas->pandasql) (2022.7.1)\n",
            "Requirement already satisfied: greenlet!=0.4.17 in /usr/local/lib/python3.9/dist-packages (from sqlalchemy->pandasql) (2.0.2)\n",
            "Requirement already satisfied: six>=1.5 in /usr/local/lib/python3.9/dist-packages (from python-dateutil>=2.8.1->pandas->pandasql) (1.16.0)\n",
            "Building wheels for collected packages: pandasql\n",
            "  Building wheel for pandasql (setup.py) ... \u001b[?25l\u001b[?25hdone\n",
            "  Created wheel for pandasql: filename=pandasql-0.7.3-py3-none-any.whl size=26784 sha256=e51d2e2c966eb17dec208589e51c0a84ac486c9748499b77db2fa4189d5d3af3\n",
            "  Stored in directory: /root/.cache/pip/wheels/63/e8/ec/75b1df467ecf57b6ececb32cb16f4e86697cbfe55cb0c51f07\n",
            "Successfully built pandasql\n",
            "\u001b[31mERROR: Operation cancelled by user\u001b[0m\u001b[31m\n",
            "\u001b[0mLooking in indexes: https://pypi.org/simple, https://us-python.pkg.dev/colab-wheels/public/simple/\n",
            "Requirement already satisfied: geopy in /usr/local/lib/python3.9/dist-packages (2.3.0)\n",
            "Requirement already satisfied: geographiclib<3,>=1.52 in /usr/local/lib/python3.9/dist-packages (from geopy) (2.0)\n",
            "Looking in indexes: https://pypi.org/simple, https://us-python.pkg.dev/colab-wheels/public/simple/\n",
            "Collecting kaleido\n",
            "  Downloading kaleido-0.2.1-py2.py3-none-manylinux1_x86_64.whl (79.9 MB)\n",
            "\u001b[2K     \u001b[90m━━━━━━━━━━━━━━━━━━━━━━━━━━━━━━━━━━━━━━━━\u001b[0m \u001b[32m79.9/79.9 MB\u001b[0m \u001b[31m11.2 MB/s\u001b[0m eta \u001b[36m0:00:00\u001b[0m\n",
            "\u001b[?25hInstalling collected packages: kaleido\n",
            "Successfully installed kaleido-0.2.1\n"
          ]
        }
      ],
      "source": [
        "!pip install sqlalchemy==1.4.46\n",
        "!pip install pandasql\n",
        "!pip install geopy\n",
        "!pip install -U kaleido"
      ]
    },
    {
      "cell_type": "code",
      "source": [
        "import pandas as pd\n",
        "import datetime as dt\n",
        "import geopy.distance as gp\n",
        "import matplotlib.image as mpimg\n",
        "import plotly.express as px\n",
        "import pandasql as ps #SQL on Pandas Dataframe\n",
        "import nltk\n",
        "nltk.download('punkt')\n",
        "import glob as glob\n",
        "from wordcloud import WordCloud\n",
        "\n",
        "import matplotlib.pyplot as plt "
      ],
      "metadata": {
        "id": "MQSbzqyb06T5"
      },
      "execution_count": null,
      "outputs": []
    },
    {
      "cell_type": "code",
      "source": [
        "from google.colab import drive\n",
        "drive.mount('/content/drive')"
      ],
      "metadata": {
        "id": "tp90-xTO1BlE"
      },
      "execution_count": null,
      "outputs": []
    },
    {
      "cell_type": "code",
      "source": [
        "root = '/content/drive/MyDrive/CIS4500-Final-Data/'\n",
        "\n",
        "club_league_cleaned = pd.read_csv(root + 'club_league_cleaned.csv')\n",
        "\n",
        "countries = list(club_league_cleaned['country'])\n",
        "leagues = list(club_league_cleaned['name'])"
      ],
      "metadata": {
        "id": "yLhuSO-92e2P"
      },
      "execution_count": null,
      "outputs": []
    },
    {
      "cell_type": "code",
      "source": [
        "club_suffix = \"_Club_Data/\"\n",
        "temp = zip(countries, leagues)\n",
        "\n",
        "def helper(x):\n",
        "  if len(x) > 0: return x[0]\n",
        "  else: return ''\n",
        "\n",
        "def add_league(filepath,league):\n",
        "  if filepath == '': return None;\n",
        "  df = pd.read_csv(filepath)\n",
        "  df['league'] = df['country'].apply(lambda x: league)\n",
        "  return df;\n",
        "\n",
        "club_filepaths = [(helper(glob.glob(root + x + club_suffix + y + '/*.csv')),y) for (x,y) in temp]\n",
        "club_dataframes = [add_league(filepath,league) for (filepath, league) in club_filepaths]\n",
        "club_dataframes[0].head(3)"
      ],
      "metadata": {
        "id": "NOaQxZBKAcH1"
      },
      "execution_count": null,
      "outputs": []
    },
    {
      "cell_type": "code",
      "source": [
        "club_data = pd.concat(club_dataframes)"
      ],
      "metadata": {
        "id": "eCHWvYuyDl6x"
      },
      "execution_count": null,
      "outputs": []
    },
    {
      "cell_type": "code",
      "source": [
        "club_data.head(10)"
      ],
      "metadata": {
        "id": "SlS5PaZpD0pB"
      },
      "execution_count": null,
      "outputs": []
    },
    {
      "cell_type": "code",
      "source": [
        "#club_data.to_csv(\"/content/drive/MyDrive/CIS4500-Final-Data/club_league_data_combined.csv\", index=False)"
      ],
      "metadata": {
        "id": "CD-2uqY6_AR0"
      },
      "execution_count": null,
      "outputs": []
    },
    {
      "cell_type": "code",
      "source": [
        "len(club_data[club_data['country'] == 'France'])"
      ],
      "metadata": {
        "id": "QfTD_qEJHBIy"
      },
      "execution_count": null,
      "outputs": []
    },
    {
      "cell_type": "code",
      "source": [
        "players_suffix = \"_Players_Data/\"\n",
        "temp = zip(countries, leagues)\n",
        "players_filepaths = [(helper(glob.glob(root + x + players_suffix + y + '/*.csv')),y) for (x,y) in temp]\n",
        "\n",
        "def add_league(filepath,league):\n",
        "  if filepath == '': return None;\n",
        "  df = pd.read_csv(filepath)\n",
        "  df['league'] = df['season'].apply(lambda x: league)\n",
        "  return df;\n",
        "players_dataframes = [add_league(filepath,league) for (filepath, league) in players_filepaths]\n",
        "players_dataframes[0].head(3)"
      ],
      "metadata": {
        "id": "fQVjwGGV22HE"
      },
      "execution_count": null,
      "outputs": []
    },
    {
      "cell_type": "code",
      "source": [
        "players_data = pd.concat(players_dataframes)"
      ],
      "metadata": {
        "id": "HMW8POz0Id54"
      },
      "execution_count": null,
      "outputs": []
    },
    {
      "cell_type": "code",
      "source": [
        "#players_data.to_csv(\"/content/drive/MyDrive/CIS4500-Final-Data/players_data_combined.csv\", index=False)"
      ],
      "metadata": {
        "id": "n9zYkmz4JGBR"
      },
      "execution_count": null,
      "outputs": []
    }
  ]
}